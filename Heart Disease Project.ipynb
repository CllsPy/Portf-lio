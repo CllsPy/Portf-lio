{
  "nbformat": 4,
  "nbformat_minor": 0,
  "metadata": {
    "colab": {
      "private_outputs": true,
      "provenance": [],
      "gpuType": "T4",
      "mount_file_id": "1DN2s9HO1nl1DtYRhcEzAt688Qzvw2qyP",
      "authorship_tag": "ABX9TyMq7815EdtQeDNf3lFVRMTf",
      "include_colab_link": true
    },
    "kernelspec": {
      "name": "python3",
      "display_name": "Python 3"
    },
    "language_info": {
      "name": "python"
    },
    "accelerator": "GPU"
  },
  "cells": [
    {
      "cell_type": "markdown",
      "metadata": {
        "id": "view-in-github",
        "colab_type": "text"
      },
      "source": [
        "<a href=\"https://colab.research.google.com/github/CllsPy/Portf-lio/blob/main/ML_Gradio_Deployment_Heart_Disease.ipynb\" target=\"_parent\"><img src=\"https://colab.research.google.com/assets/colab-badge.svg\" alt=\"Open In Colab\"/></a>"
      ]
    },
    {
      "cell_type": "markdown",
      "source": [
        "# Treinar dados"
      ],
      "metadata": {
        "id": "Yg5szWGVPeVv"
      }
    },
    {
      "cell_type": "code",
      "execution_count": null,
      "metadata": {
        "id": "G-YJWBGELWj9"
      },
      "outputs": [],
      "source": [
        "# base\n",
        "import pandas as pd\n",
        "import numpy as np\n",
        "\n",
        "# ml\n",
        "from sklearn.model_selection import train_test_split\n",
        "from sklearn.model_selection import train_test_split\n",
        "from sklearn.linear_model import LogisticRegression\n",
        "from sklearn.svm import SVC\n",
        "from sklearn.naive_bayes import GaussianNB\n",
        "from sklearn.naive_bayes import MultinomialNB\n",
        "from sklearn.linear_model import SGDClassifier\n",
        "from sklearn.neighbors import KNeighborsClassifier\n",
        "from sklearn.ensemble import RandomForestClassifier\n",
        "from sklearn.ensemble import GradientBoostingClassifier\n",
        "from lightgbm import LGBMClassifier\n",
        "from xgboost.sklearn import XGBClassifier # modelo usado\n",
        "from sklearn.multioutput import MultiOutputClassifier\n",
        "\n",
        "# reprodutibilidade\n",
        "URL = '/content/drive/MyDrive/Colab Notebooks/Dados/160 - heart-disease.csv'\n",
        "SEED = 101"
      ]
    },
    {
      "cell_type": "code",
      "source": [
        "# load\n",
        "data = pd.read_csv(URL)"
      ],
      "metadata": {
        "id": "pmGhOuZuMAlk"
      },
      "execution_count": null,
      "outputs": []
    },
    {
      "cell_type": "code",
      "source": [
        "# label e features\n",
        "X, y = data.drop('target', axis=1), data['target']\n",
        "\n",
        "# treino e teste\n",
        "X_train, X_val, y_train, y_val = X_train, X_test, y_train, y_test = train_test_split(X,\n",
        "                                                                                     y,\n",
        "                                                                                     test_size=0.33,\n",
        "                                                                                     random_state=SEED)\n",
        "# model\n",
        "xgb = XGBClassifier()\n",
        "\n",
        "# fit / treino\n",
        "xgb.fit(X_train, y_train)\n",
        "\n",
        "# score / evaluation\n",
        "score = xgb.score(X_val, y_val)\n",
        "print(f'Acuracidade: {score}')"
      ],
      "metadata": {
        "id": "iM7t-16-Mx_B"
      },
      "execution_count": null,
      "outputs": []
    },
    {
      "cell_type": "markdown",
      "source": [
        "# Deploy"
      ],
      "metadata": {
        "id": "q0iJxSWaPch3"
      }
    },
    {
      "cell_type": "code",
      "source": [
        "#!pip install gradio"
      ],
      "metadata": {
        "id": "r8bsgD4zPJRA"
      },
      "execution_count": null,
      "outputs": []
    },
    {
      "cell_type": "code",
      "source": [
        "# básico\n",
        "import gradio as gr"
      ],
      "metadata": {
        "id": "E4g3U_FqPNdm"
      },
      "execution_count": null,
      "outputs": []
    },
    {
      "cell_type": "code",
      "source": [
        "def interface(age,\n",
        "              sex,\n",
        "              cp,\n",
        "              trestbps,\n",
        "              chol,\n",
        "              fbs,\n",
        "              restecg,\n",
        "              thalach,\n",
        "              exang,\n",
        "              oldpeak,\n",
        "              slope,\n",
        "              ca,\n",
        "              thal):\n",
        "\n",
        "    data_deploy = {'age': age,\n",
        "              'sex': sex,\n",
        "              'cp': cp,\n",
        "              'trestbps': trestbps,\n",
        "              'chol': chol,\n",
        "              'fbs': fbs,\n",
        "              'restecg': restecg,\n",
        "              'thalach': thalach,\n",
        "              'exang': exang,\n",
        "              'oldpeak': oldpeak,\n",
        "              'slope': slope,\n",
        "              'ca': ca,\n",
        "              'thal': thal}\n",
        "\n",
        "    data_to_dataframe = pd.DataFrame(data_deploy, index=['0'])\n",
        "    resul = xgb.predict(data_to_dataframe)\n",
        "\n",
        "    if resul == 0:\n",
        "        return f'Suadável!'\n",
        "\n",
        "    else:\n",
        "        return 'Possível Doença!'\n"
      ],
      "metadata": {
        "id": "Jej3dl2DPm55"
      },
      "execution_count": null,
      "outputs": []
    },
    {
      "cell_type": "code",
      "source": [
        "demo = gr.Interface(fn=interface,\n",
        "                    inputs=[\"number\",\n",
        "                            'number',\n",
        "                            gr.Slider(0, 100),\n",
        "                            gr.Slider(0, 1200),\n",
        "                            'slider',\n",
        "                            'slider',\n",
        "                            'slider',\n",
        "                            'slider',\n",
        "                            'slider',\n",
        "                            'slider',\n",
        "                            'slider',\n",
        "                            'slider',\n",
        "                            'slider'],\n",
        "\n",
        "                    outputs=[\"text\"]).launch()"
      ],
      "metadata": {
        "id": "G2VeGYd6SAxp"
      },
      "execution_count": null,
      "outputs": []
    }
  ]
}
